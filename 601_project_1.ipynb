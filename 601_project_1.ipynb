{
  "nbformat": 4,
  "nbformat_minor": 0,
  "metadata": {
    "colab": {
      "name": "601 project 1.ipynb",
      "provenance": [],
      "collapsed_sections": []
    },
    "kernelspec": {
      "name": "python3",
      "display_name": "Python 3"
    },
    "accelerator": "GPU"
  },
  "cells": [
    {
      "cell_type": "markdown",
      "metadata": {
        "id": "lW746Sjz53yM",
        "colab_type": "text"
      },
      "source": [
        "##Project 1: Exploratory Data Analysis.\n",
        "The primary objective of this project is to perform EDA and extract some information from the data.\n",
        "\n",
        "The dataset which I chose is crash dataset which contains following information such as  Year, Month, Day, Weekend, Hour the accident took place and\n",
        "      Collision Type, Injury Type, Primary Factor, Reported Location,\n",
        "       Latitude, Longitude of the accident.\n",
        "\n",
        "\n",
        "\n"
      ]
    },
    {
      "cell_type": "markdown",
      "metadata": {
        "id": "RKnOik7eCMC-",
        "colab_type": "text"
      },
      "source": [
        "## Primary Observation:\n",
        "I have done Exploratory Data Analysis and found out:\n",
        "\n",
        "\n",
        "*   large number accidents occured on weekdays than on weekends.\n",
        "*   2-Car collision was the most common type of collision.\n",
        "* Highest number of accidents took place in 2003 and least number of accidents took place in.\n",
        "* Frequency of accidents at different parts of the day. Highest amount accidents were occured in afternoon and least amount of accidents were occured in midnight\n",
        "\n"
      ]
    },
    {
      "cell_type": "markdown",
      "metadata": {
        "id": "YG4HtcfQDwXt",
        "colab_type": "text"
      },
      "source": [
        "## Proposal:\n",
        "**Discovery of the Data Source**: While I was searching for the open datasets online which legal and free to download, I found a website called data.gov where we can download the datasets and work on them. While searching for the datasets within the website I found this dataset interesting and selected this dataset to work with.\n",
        "\n",
        "**Cost incurred to download the dataset**: The dataset totally free to download. \n",
        "\n",
        "**Legality**: It is totally legal to download the dataset from their website and to work on it.\n",
        "\n",
        "**Data types in the dataset**: String, Numeric, Categorical.\n",
        "\n",
        "**Size of the data**:\n",
        "* The size of dataset is 6.24MB\n",
        "*\tNumber of rows in the dataset including the header: 53944\n",
        "* Number of columns in the dataset: 12\n",
        "\n",
        "\n"
      ]
    },
    {
      "cell_type": "markdown",
      "metadata": {
        "id": "wOqerHAGCzjA",
        "colab_type": "text"
      },
      "source": [
        "## Data Source location\n",
        "\n",
        "The data is available to download at the following link: https://catalog.data.gov/dataset/traffic-data/resource/e46a5cc5-ed4d-4b8d-b750-18e6c9ec570e"
      ]
    },
    {
      "cell_type": "code",
      "metadata": {
        "id": "60m2p7rHYN1r",
        "colab_type": "code",
        "colab": {}
      },
      "source": [
        "# Importing required libraries.\n",
        "import time\n",
        "import matplotlib.pyplot as plt\n",
        "import pandas as pd\n",
        "import seaborn as sns"
      ],
      "execution_count": 0,
      "outputs": []
    },
    {
      "cell_type": "code",
      "metadata": {
        "id": "c8l7-VgW07Yv",
        "colab_type": "code",
        "colab": {}
      },
      "source": [
        "# Calculating the start time.\n",
        "start_time = time.time()"
      ],
      "execution_count": 0,
      "outputs": []
    },
    {
      "cell_type": "code",
      "metadata": {
        "id": "KnUYlStHYdSH",
        "colab_type": "code",
        "outputId": "6d66c4df-d8f4-4c61-83f7-32b114d84481",
        "colab": {
          "base_uri": "https://localhost:8080/",
          "height": 482
        }
      },
      "source": [
        "# Reading the dataset.\n",
        "df = pd.read_csv('/content/monroe-county-crash-data2003-to-2015.csv')\n",
        "df.head()"
      ],
      "execution_count": 37,
      "outputs": [
        {
          "output_type": "execute_result",
          "data": {
            "text/html": [
              "<div>\n",
              "<style scoped>\n",
              "    .dataframe tbody tr th:only-of-type {\n",
              "        vertical-align: middle;\n",
              "    }\n",
              "\n",
              "    .dataframe tbody tr th {\n",
              "        vertical-align: top;\n",
              "    }\n",
              "\n",
              "    .dataframe thead th {\n",
              "        text-align: right;\n",
              "    }\n",
              "</style>\n",
              "<table border=\"1\" class=\"dataframe\">\n",
              "  <thead>\n",
              "    <tr style=\"text-align: right;\">\n",
              "      <th></th>\n",
              "      <th>Master Record Number</th>\n",
              "      <th>Year</th>\n",
              "      <th>Month</th>\n",
              "      <th>Day</th>\n",
              "      <th>Weekend?</th>\n",
              "      <th>Hour</th>\n",
              "      <th>Collision Type</th>\n",
              "      <th>Injury Type</th>\n",
              "      <th>Primary Factor</th>\n",
              "      <th>Reported_Location</th>\n",
              "      <th>Latitude</th>\n",
              "      <th>Longitude</th>\n",
              "    </tr>\n",
              "  </thead>\n",
              "  <tbody>\n",
              "    <tr>\n",
              "      <th>0</th>\n",
              "      <td>902363382</td>\n",
              "      <td>2015</td>\n",
              "      <td>1</td>\n",
              "      <td>5</td>\n",
              "      <td>Weekday</td>\n",
              "      <td>0.0</td>\n",
              "      <td>2-Car</td>\n",
              "      <td>No injury/unknown</td>\n",
              "      <td>OTHER (DRIVER) - EXPLAIN IN NARRATIVE</td>\n",
              "      <td>1ST &amp; FESS</td>\n",
              "      <td>39.159207</td>\n",
              "      <td>-86.525874</td>\n",
              "    </tr>\n",
              "    <tr>\n",
              "      <th>1</th>\n",
              "      <td>902364268</td>\n",
              "      <td>2015</td>\n",
              "      <td>1</td>\n",
              "      <td>6</td>\n",
              "      <td>Weekday</td>\n",
              "      <td>1500.0</td>\n",
              "      <td>2-Car</td>\n",
              "      <td>No injury/unknown</td>\n",
              "      <td>FOLLOWING TOO CLOSELY</td>\n",
              "      <td>2ND &amp; COLLEGE</td>\n",
              "      <td>39.161440</td>\n",
              "      <td>-86.534848</td>\n",
              "    </tr>\n",
              "    <tr>\n",
              "      <th>2</th>\n",
              "      <td>902364412</td>\n",
              "      <td>2015</td>\n",
              "      <td>1</td>\n",
              "      <td>6</td>\n",
              "      <td>Weekend</td>\n",
              "      <td>2300.0</td>\n",
              "      <td>2-Car</td>\n",
              "      <td>Non-incapacitating</td>\n",
              "      <td>DISREGARD SIGNAL/REG SIGN</td>\n",
              "      <td>BASSWOOD &amp; BLOOMFIELD</td>\n",
              "      <td>39.149780</td>\n",
              "      <td>-86.568890</td>\n",
              "    </tr>\n",
              "    <tr>\n",
              "      <th>3</th>\n",
              "      <td>902364551</td>\n",
              "      <td>2015</td>\n",
              "      <td>1</td>\n",
              "      <td>7</td>\n",
              "      <td>Weekend</td>\n",
              "      <td>900.0</td>\n",
              "      <td>2-Car</td>\n",
              "      <td>Non-incapacitating</td>\n",
              "      <td>FAILURE TO YIELD RIGHT OF WAY</td>\n",
              "      <td>GATES &amp; JACOBS</td>\n",
              "      <td>39.165655</td>\n",
              "      <td>-86.575956</td>\n",
              "    </tr>\n",
              "    <tr>\n",
              "      <th>4</th>\n",
              "      <td>902364615</td>\n",
              "      <td>2015</td>\n",
              "      <td>1</td>\n",
              "      <td>7</td>\n",
              "      <td>Weekend</td>\n",
              "      <td>1100.0</td>\n",
              "      <td>2-Car</td>\n",
              "      <td>No injury/unknown</td>\n",
              "      <td>FAILURE TO YIELD RIGHT OF WAY</td>\n",
              "      <td>W 3RD</td>\n",
              "      <td>39.164848</td>\n",
              "      <td>-86.579625</td>\n",
              "    </tr>\n",
              "  </tbody>\n",
              "</table>\n",
              "</div>"
            ],
            "text/plain": [
              "   Master Record Number  Year  ...   Latitude  Longitude\n",
              "0             902363382  2015  ...  39.159207 -86.525874\n",
              "1             902364268  2015  ...  39.161440 -86.534848\n",
              "2             902364412  2015  ...  39.149780 -86.568890\n",
              "3             902364551  2015  ...  39.165655 -86.575956\n",
              "4             902364615  2015  ...  39.164848 -86.579625\n",
              "\n",
              "[5 rows x 12 columns]"
            ]
          },
          "metadata": {
            "tags": []
          },
          "execution_count": 37
        }
      ]
    },
    {
      "cell_type": "markdown",
      "metadata": {
        "id": "yeI1j9ZWPB0p",
        "colab_type": "text"
      },
      "source": [
        "Number of rows and columns in the dataset"
      ]
    },
    {
      "cell_type": "code",
      "metadata": {
        "id": "4A2w-xacGX2r",
        "colab_type": "code",
        "outputId": "374c725e-e1d9-48d1-da70-36ade978fe07",
        "colab": {
          "base_uri": "https://localhost:8080/",
          "height": 52
        }
      },
      "source": [
        "print(\"Number of rows:\", df.shape[0])\n",
        "print(\"Number of columns:\", df.shape[1])"
      ],
      "execution_count": 38,
      "outputs": [
        {
          "output_type": "stream",
          "text": [
            "Number of rows: 53943\n",
            "Number of columns: 12\n"
          ],
          "name": "stdout"
        }
      ]
    },
    {
      "cell_type": "markdown",
      "metadata": {
        "id": "A_nnkRsFPXTy",
        "colab_type": "text"
      },
      "source": [
        "**Performing different stats on the dataset**"
      ]
    },
    {
      "cell_type": "code",
      "metadata": {
        "id": "0DTu6CR5GN_e",
        "colab_type": "code",
        "outputId": "7cceb712-c9c4-4f86-82b9-32d03af11591",
        "colab": {
          "base_uri": "https://localhost:8080/",
          "height": 294
        }
      },
      "source": [
        "df.describe()"
      ],
      "execution_count": 39,
      "outputs": [
        {
          "output_type": "execute_result",
          "data": {
            "text/html": [
              "<div>\n",
              "<style scoped>\n",
              "    .dataframe tbody tr th:only-of-type {\n",
              "        vertical-align: middle;\n",
              "    }\n",
              "\n",
              "    .dataframe tbody tr th {\n",
              "        vertical-align: top;\n",
              "    }\n",
              "\n",
              "    .dataframe thead th {\n",
              "        text-align: right;\n",
              "    }\n",
              "</style>\n",
              "<table border=\"1\" class=\"dataframe\">\n",
              "  <thead>\n",
              "    <tr style=\"text-align: right;\">\n",
              "      <th></th>\n",
              "      <th>Master Record Number</th>\n",
              "      <th>Year</th>\n",
              "      <th>Month</th>\n",
              "      <th>Day</th>\n",
              "      <th>Hour</th>\n",
              "      <th>Latitude</th>\n",
              "      <th>Longitude</th>\n",
              "    </tr>\n",
              "  </thead>\n",
              "  <tbody>\n",
              "    <tr>\n",
              "      <th>count</th>\n",
              "      <td>5.394300e+04</td>\n",
              "      <td>53943.000000</td>\n",
              "      <td>53943.000000</td>\n",
              "      <td>53943.000000</td>\n",
              "      <td>53718.000000</td>\n",
              "      <td>53913.000000</td>\n",
              "      <td>53913.000000</td>\n",
              "    </tr>\n",
              "    <tr>\n",
              "      <th>mean</th>\n",
              "      <td>6.748119e+08</td>\n",
              "      <td>2008.968059</td>\n",
              "      <td>6.662162</td>\n",
              "      <td>4.196912</td>\n",
              "      <td>1347.265349</td>\n",
              "      <td>35.582109</td>\n",
              "      <td>-78.619224</td>\n",
              "    </tr>\n",
              "    <tr>\n",
              "      <th>std</th>\n",
              "      <td>3.907563e+08</td>\n",
              "      <td>3.789760</td>\n",
              "      <td>3.514630</td>\n",
              "      <td>1.909440</td>\n",
              "      <td>531.654039</td>\n",
              "      <td>11.289883</td>\n",
              "      <td>24.957587</td>\n",
              "    </tr>\n",
              "    <tr>\n",
              "      <th>min</th>\n",
              "      <td>1.470500e+04</td>\n",
              "      <td>2003.000000</td>\n",
              "      <td>1.000000</td>\n",
              "      <td>1.000000</td>\n",
              "      <td>0.000000</td>\n",
              "      <td>0.000000</td>\n",
              "      <td>-88.959213</td>\n",
              "    </tr>\n",
              "    <tr>\n",
              "      <th>25%</th>\n",
              "      <td>1.991074e+06</td>\n",
              "      <td>2006.000000</td>\n",
              "      <td>4.000000</td>\n",
              "      <td>3.000000</td>\n",
              "      <td>1000.000000</td>\n",
              "      <td>39.142048</td>\n",
              "      <td>-86.551520</td>\n",
              "    </tr>\n",
              "    <tr>\n",
              "      <th>50%</th>\n",
              "      <td>9.011241e+08</td>\n",
              "      <td>2009.000000</td>\n",
              "      <td>7.000000</td>\n",
              "      <td>4.000000</td>\n",
              "      <td>1400.000000</td>\n",
              "      <td>39.164430</td>\n",
              "      <td>-86.530992</td>\n",
              "    </tr>\n",
              "    <tr>\n",
              "      <th>75%</th>\n",
              "      <td>9.019039e+08</td>\n",
              "      <td>2012.000000</td>\n",
              "      <td>10.000000</td>\n",
              "      <td>6.000000</td>\n",
              "      <td>1700.000000</td>\n",
              "      <td>39.173344</td>\n",
              "      <td>-86.508288</td>\n",
              "    </tr>\n",
              "    <tr>\n",
              "      <th>max</th>\n",
              "      <td>9.026394e+08</td>\n",
              "      <td>2015.000000</td>\n",
              "      <td>12.000000</td>\n",
              "      <td>7.000000</td>\n",
              "      <td>2300.000000</td>\n",
              "      <td>41.228665</td>\n",
              "      <td>86.596363</td>\n",
              "    </tr>\n",
              "  </tbody>\n",
              "</table>\n",
              "</div>"
            ],
            "text/plain": [
              "       Master Record Number          Year  ...      Latitude     Longitude\n",
              "count          5.394300e+04  53943.000000  ...  53913.000000  53913.000000\n",
              "mean           6.748119e+08   2008.968059  ...     35.582109    -78.619224\n",
              "std            3.907563e+08      3.789760  ...     11.289883     24.957587\n",
              "min            1.470500e+04   2003.000000  ...      0.000000    -88.959213\n",
              "25%            1.991074e+06   2006.000000  ...     39.142048    -86.551520\n",
              "50%            9.011241e+08   2009.000000  ...     39.164430    -86.530992\n",
              "75%            9.019039e+08   2012.000000  ...     39.173344    -86.508288\n",
              "max            9.026394e+08   2015.000000  ...     41.228665     86.596363\n",
              "\n",
              "[8 rows x 7 columns]"
            ]
          },
          "metadata": {
            "tags": []
          },
          "execution_count": 39
        }
      ]
    },
    {
      "cell_type": "markdown",
      "metadata": {
        "id": "0GYZ5ol7Rnw2",
        "colab_type": "text"
      },
      "source": [
        "Some information about the dataset."
      ]
    },
    {
      "cell_type": "code",
      "metadata": {
        "id": "hohcDSoARfOL",
        "colab_type": "code",
        "outputId": "f0ce25c1-7f3a-402b-f3fa-2751568f3504",
        "colab": {
          "base_uri": "https://localhost:8080/",
          "height": 312
        }
      },
      "source": [
        "df.info()"
      ],
      "execution_count": 40,
      "outputs": [
        {
          "output_type": "stream",
          "text": [
            "<class 'pandas.core.frame.DataFrame'>\n",
            "RangeIndex: 53943 entries, 0 to 53942\n",
            "Data columns (total 12 columns):\n",
            "Master Record Number    53943 non-null int64\n",
            "Year                    53943 non-null int64\n",
            "Month                   53943 non-null int64\n",
            "Day                     53943 non-null int64\n",
            "Weekend?                53875 non-null object\n",
            "Hour                    53718 non-null float64\n",
            "Collision Type          53937 non-null object\n",
            "Injury Type             53943 non-null object\n",
            "Primary Factor          52822 non-null object\n",
            "Reported_Location       53908 non-null object\n",
            "Latitude                53913 non-null float64\n",
            "Longitude               53913 non-null float64\n",
            "dtypes: float64(3), int64(4), object(5)\n",
            "memory usage: 4.9+ MB\n"
          ],
          "name": "stdout"
        }
      ]
    },
    {
      "cell_type": "markdown",
      "metadata": {
        "id": "Xld7lyHhUWMp",
        "colab_type": "text"
      },
      "source": [
        "**Checking for duplicate records**"
      ]
    },
    {
      "cell_type": "code",
      "metadata": {
        "id": "O8EsTYzhURIM",
        "colab_type": "code",
        "outputId": "bec99e54-9dac-4099-89a3-93bc50de9554",
        "colab": {
          "base_uri": "https://localhost:8080/",
          "height": 35
        }
      },
      "source": [
        "df.duplicated().sum()"
      ],
      "execution_count": 41,
      "outputs": [
        {
          "output_type": "execute_result",
          "data": {
            "text/plain": [
              "0"
            ]
          },
          "metadata": {
            "tags": []
          },
          "execution_count": 41
        }
      ]
    },
    {
      "cell_type": "markdown",
      "metadata": {
        "id": "6KXEZAV2IDMV",
        "colab_type": "text"
      },
      "source": [
        "### Finding Null values "
      ]
    },
    {
      "cell_type": "code",
      "metadata": {
        "id": "VOGL0V7yYou3",
        "colab_type": "code",
        "outputId": "6398a9e9-ee6e-4d1c-dc4c-30aed9e90688",
        "colab": {
          "base_uri": "https://localhost:8080/",
          "height": 243
        }
      },
      "source": [
        "# Below are the number of null values in each column of the dataset.\n",
        "df.isnull().sum()"
      ],
      "execution_count": 42,
      "outputs": [
        {
          "output_type": "execute_result",
          "data": {
            "text/plain": [
              "Master Record Number       0\n",
              "Year                       0\n",
              "Month                      0\n",
              "Day                        0\n",
              "Weekend?                  68\n",
              "Hour                     225\n",
              "Collision Type             6\n",
              "Injury Type                0\n",
              "Primary Factor          1121\n",
              "Reported_Location         35\n",
              "Latitude                  30\n",
              "Longitude                 30\n",
              "dtype: int64"
            ]
          },
          "metadata": {
            "tags": []
          },
          "execution_count": 42
        }
      ]
    },
    {
      "cell_type": "markdown",
      "metadata": {
        "id": "HVUd2ULFP5Yk",
        "colab_type": "text"
      },
      "source": [
        "###Now, I'm finding the total missing data and the percentage of the missing data."
      ]
    },
    {
      "cell_type": "code",
      "metadata": {
        "id": "ZgEF3vuuOqRM",
        "colab_type": "code",
        "outputId": "94995500-439f-4fcb-fc58-7f5f486a1497",
        "colab": {
          "base_uri": "https://localhost:8080/",
          "height": 52
        }
      },
      "source": [
        "missing_data = df.isnull().sum().sum()\n",
        "print(\"Total Missing data:\",missing_data)\n",
        "print(\"Percentage of Missing data: \",missing_data/(df.shape[0]*df.shape[1])*100,\"%\")"
      ],
      "execution_count": 43,
      "outputs": [
        {
          "output_type": "stream",
          "text": [
            "Total Missing data: 1515\n",
            "Percentage of Missing data:  0.23404334204623398 %\n"
          ],
          "name": "stdout"
        }
      ]
    },
    {
      "cell_type": "markdown",
      "metadata": {
        "id": "jmEpiH3gQJ-w",
        "colab_type": "text"
      },
      "source": [
        "Since, only 0.23% of the data is missing, it does not effect my analysis much and I feel leaving the data as it is a good option."
      ]
    },
    {
      "cell_type": "markdown",
      "metadata": {
        "id": "NJpv1-Ki9ptH",
        "colab_type": "text"
      },
      "source": [
        "### Plot showing the count of accidents based on the collision type which occured on weekend and weekday."
      ]
    },
    {
      "cell_type": "code",
      "metadata": {
        "id": "QMStIxeQd-8z",
        "colab_type": "code",
        "outputId": "3d3c3bc1-591e-4b8f-9d2d-e965cc61b70d",
        "colab": {
          "base_uri": "https://localhost:8080/",
          "height": 538
        }
      },
      "source": [
        "plt.title(\"Number of accidents by collision type on weekend and weekday\", fontsize=20)\n",
        "sns.set(rc={'figure.figsize':(12,8.27)}) #Reference: https://stackoverflow.com/questions/31594549/how-do-i-change-the-figure-size-for-a-seaborn-plot\n",
        "sns.set(style='darkgrid')\n",
        "p2 = sns.countplot(x= 'Collision Type', hue='Weekend?' , data= df)\n",
        "\n",
        "#Reference: https://www.semicolonworld.com/question/56232/seaborn-countplot-with-frequencies\n",
        "for p in p2.patches:\n",
        "        p2.annotate('{:.1f}'.format(p.get_height()), (p.get_x()+0.1, p.get_height()+50))"
      ],
      "execution_count": 44,
      "outputs": [
        {
          "output_type": "display_data",
          "data": {
            "image/png": "[encoded data removed]",
            "text/plain": [
              "<Figure size 864x595.44 with 1 Axes>"
            ]
          },
          "metadata": {
            "tags": []
          }
        }
      ]
    },
    {
      "cell_type": "markdown",
      "metadata": {
        "id": "UZdiTEM9-Rb0",
        "colab_type": "text"
      },
      "source": [
        "#### Number of accidents that took place at different hours of the day. The hour part is rounded off to its nearest hour."
      ]
    },
    {
      "cell_type": "code",
      "metadata": {
        "id": "3PIbvfZWjgls",
        "colab_type": "code",
        "outputId": "1cfe35e2-6980-4b4a-b6b3-09aeac02b08e",
        "colab": {
          "base_uri": "https://localhost:8080/",
          "height": 451
        }
      },
      "source": [
        "df.Hour.value_counts()"
      ],
      "execution_count": 45,
      "outputs": [
        {
          "output_type": "execute_result",
          "data": {
            "text/plain": [
              "1700.0    4631\n",
              "1600.0    4488\n",
              "1500.0    4283\n",
              "1200.0    3819\n",
              "1400.0    3750\n",
              "1300.0    3526\n",
              "1800.0    3232\n",
              "1100.0    3040\n",
              "1900.0    2442\n",
              "1000.0    2360\n",
              "900.0     2318\n",
              "800.0     2247\n",
              "700.0     2031\n",
              "2000.0    1918\n",
              "2100.0    1794\n",
              "2200.0    1503\n",
              "2300.0    1187\n",
              "0.0       1115\n",
              "600.0      806\n",
              "100.0      801\n",
              "300.0      719\n",
              "200.0      716\n",
              "500.0      514\n",
              "400.0      478\n",
              "Name: Hour, dtype: int64"
            ]
          },
          "metadata": {
            "tags": []
          },
          "execution_count": 45
        }
      ]
    },
    {
      "cell_type": "markdown",
      "metadata": {
        "id": "Qe-3hwwk-j4w",
        "colab_type": "text"
      },
      "source": [
        "### Plot showing number accidents per year from 2003-2015"
      ]
    },
    {
      "cell_type": "code",
      "metadata": {
        "id": "Ik1CikOgjuOz",
        "colab_type": "code",
        "outputId": "d6fe618f-d3df-4223-a5bc-e748752f0567",
        "colab": {
          "base_uri": "https://localhost:8080/",
          "height": 538
        }
      },
      "source": [
        "sns.set(style=\"whitegrid\")\n",
        "polt = sns.countplot(x = 'Year', data= df)\n",
        "plt.title(\"Count of accidents by Year\", fontsize=20)\n",
        "#Reference: https://www.semicolonworld.com/question/56232/seaborn-countplot-with-frequencies\n",
        "for p in polt.patches:\n",
        "        polt.annotate('{:.1f}'.format(p.get_height()), (p.get_x()+0.1, p.get_height()+50))"
      ],
      "execution_count": 46,
      "outputs": [
        {
          "output_type": "display_data",
          "data": {
            "image/png": "[encoded data removed]",
            "text/plain": [
              "<Figure size 864x595.44 with 1 Axes>"
            ]
          },
          "metadata": {
            "tags": []
          }
        }
      ]
    },
    {
      "cell_type": "markdown",
      "metadata": {
        "id": "VjDMOV0yczoe",
        "colab_type": "text"
      },
      "source": [
        "In the below cell I'm creating a new column called \"Part of Day\".\n",
        "The timeframes are:\n",
        "\n",
        "\n",
        "*   Early Morning: 4:00 - 8:00\n",
        "*  Morning: 8:00 - 12:00 \n",
        "* Afternoon: 12:00 - 16:00\n",
        "* Evening: 16:00 - 20:00\n",
        "* Night: 20:00 - 00:00\n",
        "* Midnight: 00:00 - 4:00\n",
        "\n",
        "\n"
      ]
    },
    {
      "cell_type": "code",
      "metadata": {
        "id": "mT7RRw3KTjqF",
        "colab_type": "code",
        "outputId": "8572f91b-31ec-4ebf-ac38-af59d6dcffae",
        "colab": {
          "base_uri": "https://localhost:8080/",
          "height": 557
        }
      },
      "source": [
        "# Creating a new column and labeling the row with its specific timeframe\n",
        "\n",
        "df[\"Part of Day\"] = ''\n",
        "for i in range(df.shape[0]):\n",
        "    if(500.0 <= df.Hour[i] <= 800.0):\n",
        "        df[\"Part of Day\"][i] = \"Early Morning\"\n",
        "    if(900.0 <= df.Hour[i] <= 1200.0):\n",
        "        df[\"Part of Day\"][i] = \"Morning\"\n",
        "    if(1300.0 <= df.Hour[i] <= 1600.0):\n",
        "        df[\"Part of Day\"][i] = \"Afternoon\"\n",
        "    if(1700.0 <= df.Hour[i] <= 2000.0):\n",
        "        df[\"Part of Day\"][i] = \"Evening\"\n",
        "    if((2100.0 <= df.Hour[i] <= 2300.0) or df.Hour[i]==0.0):\n",
        "        df[\"Part of Day\"][i] = \"Night\"\n",
        "    if(100.0 <= df.Hour[i] <= 400.0):\n",
        "        df[\"Part of Day\"][i] = \"Midnight\""
      ],
      "execution_count": 47,
      "outputs": [
        {
          "output_type": "stream",
          "text": [
            "/usr/local/lib/python3.6/dist-packages/ipykernel_launcher.py:13: SettingWithCopyWarning: \n",
            "A value is trying to be set on a copy of a slice from a DataFrame\n",
            "\n",
            "See the caveats in the documentation: http://pandas.pydata.org/pandas-docs/stable/user_guide/indexing.html#returning-a-view-versus-a-copy\n",
            "  del sys.path[0]\n",
            "/usr/local/lib/python3.6/dist-packages/ipykernel_launcher.py:9: SettingWithCopyWarning: \n",
            "A value is trying to be set on a copy of a slice from a DataFrame\n",
            "\n",
            "See the caveats in the documentation: http://pandas.pydata.org/pandas-docs/stable/user_guide/indexing.html#returning-a-view-versus-a-copy\n",
            "  if __name__ == '__main__':\n",
            "/usr/local/lib/python3.6/dist-packages/ipykernel_launcher.py:7: SettingWithCopyWarning: \n",
            "A value is trying to be set on a copy of a slice from a DataFrame\n",
            "\n",
            "See the caveats in the documentation: http://pandas.pydata.org/pandas-docs/stable/user_guide/indexing.html#returning-a-view-versus-a-copy\n",
            "  import sys\n",
            "/usr/local/lib/python3.6/dist-packages/ipykernel_launcher.py:11: SettingWithCopyWarning: \n",
            "A value is trying to be set on a copy of a slice from a DataFrame\n",
            "\n",
            "See the caveats in the documentation: http://pandas.pydata.org/pandas-docs/stable/user_guide/indexing.html#returning-a-view-versus-a-copy\n",
            "  # This is added back by InteractiveShellApp.init_path()\n",
            "/usr/local/lib/python3.6/dist-packages/ipykernel_launcher.py:5: SettingWithCopyWarning: \n",
            "A value is trying to be set on a copy of a slice from a DataFrame\n",
            "\n",
            "See the caveats in the documentation: http://pandas.pydata.org/pandas-docs/stable/user_guide/indexing.html#returning-a-view-versus-a-copy\n",
            "  \"\"\"\n",
            "/usr/local/lib/python3.6/dist-packages/ipykernel_launcher.py:15: SettingWithCopyWarning: \n",
            "A value is trying to be set on a copy of a slice from a DataFrame\n",
            "\n",
            "See the caveats in the documentation: http://pandas.pydata.org/pandas-docs/stable/user_guide/indexing.html#returning-a-view-versus-a-copy\n",
            "  from ipykernel import kernelapp as app\n"
          ],
          "name": "stderr"
        }
      ]
    },
    {
      "cell_type": "code",
      "metadata": {
        "id": "_ERbPah1ctTo",
        "colab_type": "code",
        "outputId": "72a39629-2931-432d-c85b-d18fb267c851",
        "colab": {
          "base_uri": "https://localhost:8080/",
          "height": 156
        }
      },
      "source": [
        "df[\"Part of Day\"].value_counts()/df.shape[0]*100"
      ],
      "execution_count": 48,
      "outputs": [
        {
          "output_type": "execute_result",
          "data": {
            "text/plain": [
              "Afternoon        29.748067\n",
              "Evening          22.659103\n",
              "Morning          21.387390\n",
              "Night            10.379475\n",
              "Early Morning    10.377621\n",
              "Midnight          5.031237\n",
              "                  0.417107\n",
              "Name: Part of Day, dtype: float64"
            ]
          },
          "metadata": {
            "tags": []
          },
          "execution_count": 48
        }
      ]
    },
    {
      "cell_type": "code",
      "metadata": {
        "id": "sXyiLyg4eOYI",
        "colab_type": "code",
        "colab": {}
      },
      "source": [
        "# Calculating the percentage of accidents in each part of the day and storing it in a dictionary\n",
        "parts_dict = (df[\"Part of Day\"].value_counts()/df.shape[0]*100).to_dict()"
      ],
      "execution_count": 0,
      "outputs": []
    },
    {
      "cell_type": "code",
      "metadata": {
        "id": "oqUUtw9pf-zv",
        "colab_type": "code",
        "outputId": "bdba5a94-b87b-4331-a50c-8810a3065e41",
        "colab": {
          "base_uri": "https://localhost:8080/",
          "height": 139
        }
      },
      "source": [
        "#Validating\n",
        "parts_dict"
      ],
      "execution_count": 50,
      "outputs": [
        {
          "output_type": "execute_result",
          "data": {
            "text/plain": [
              "{'': 0.4171069462210111,\n",
              " 'Afternoon': 29.74806740448251,\n",
              " 'Early Morning': 10.377620821978756,\n",
              " 'Evening': 22.659103127375193,\n",
              " 'Midnight': 5.031236675750329,\n",
              " 'Morning': 21.387390393563578,\n",
              " 'Night': 10.379474630628627}"
            ]
          },
          "metadata": {
            "tags": []
          },
          "execution_count": 50
        }
      ]
    },
    {
      "cell_type": "code",
      "metadata": {
        "id": "Du3b51LxhuvS",
        "colab_type": "code",
        "outputId": "52196170-d473-4430-82f2-0a90c6e1539d",
        "colab": {
          "base_uri": "https://localhost:8080/",
          "height": 139
        }
      },
      "source": [
        "# Extracting the keys in the dict snd loading it in the list\n",
        "keys_list = []\n",
        "for keys in parts_dict.keys():\n",
        "    keys_list.append(keys)\n",
        "keys_list[-1] = \"Null Values\"\n",
        "keys_list"
      ],
      "execution_count": 51,
      "outputs": [
        {
          "output_type": "execute_result",
          "data": {
            "text/plain": [
              "['Afternoon',\n",
              " 'Evening',\n",
              " 'Morning',\n",
              " 'Night',\n",
              " 'Early Morning',\n",
              " 'Midnight',\n",
              " 'Null Values']"
            ]
          },
          "metadata": {
            "tags": []
          },
          "execution_count": 51
        }
      ]
    },
    {
      "cell_type": "code",
      "metadata": {
        "id": "9smx0ncTmvQ5",
        "colab_type": "code",
        "outputId": "ecafcaee-1134-4702-bda1-8ca0f62edc4a",
        "colab": {
          "base_uri": "https://localhost:8080/",
          "height": 139
        }
      },
      "source": [
        "# Extracting the values from the dict and storing it in the list\n",
        "values_list = []\n",
        "for vals in parts_dict.values():\n",
        "    values_list.append(vals)\n",
        "values_list"
      ],
      "execution_count": 52,
      "outputs": [
        {
          "output_type": "execute_result",
          "data": {
            "text/plain": [
              "[29.74806740448251,\n",
              " 22.659103127375193,\n",
              " 21.387390393563578,\n",
              " 10.379474630628627,\n",
              " 10.377620821978756,\n",
              " 5.031236675750329,\n",
              " 0.4171069462210111]"
            ]
          },
          "metadata": {
            "tags": []
          },
          "execution_count": 52
        }
      ]
    },
    {
      "cell_type": "markdown",
      "metadata": {
        "id": "gX1KAxXi_iWQ",
        "colab_type": "text"
      },
      "source": [
        "### Plot showing percentage of accidents that took place in different parts of the day"
      ]
    },
    {
      "cell_type": "code",
      "metadata": {
        "id": "A3THXysXnNy8",
        "colab_type": "code",
        "outputId": "0174f7de-cef0-4342-f3ee-d181983feb47",
        "colab": {
          "base_uri": "https://localhost:8080/",
          "height": 501
        }
      },
      "source": [
        "# Reference: http://www.datasciencemadesimple.com/pie-chart-in-python-with-legends/\n",
        "explode = (0.05, 0, 0, 0, 0, 0, 0)\n",
        "plt.pie(values_list, labels=keys_list,\n",
        "explode=explode, autopct='%1.1f%%',\n",
        "counterclock=False, shadow=False)\n",
        "plt.title('Percentage of Accidents in different parts of the day', fontsize=20)\n",
        "plt.show()\n",
        " "
      ],
      "execution_count": 53,
      "outputs": [
        {
          "output_type": "display_data",
          "data": {
            "image/png": "[encoded data removed]",
            "text/plain": [
              "<Figure size 864x595.44 with 1 Axes>"
            ]
          },
          "metadata": {
            "tags": []
          }
        }
      ]
    },
    {
      "cell_type": "markdown",
      "metadata": {
        "id": "YyfA6ODVKqXj",
        "colab_type": "text"
      },
      "source": [
        "### Calculating the runtime of the notebook"
      ]
    },
    {
      "cell_type": "code",
      "metadata": {
        "id": "VmdQmGWYoCLz",
        "colab_type": "code",
        "outputId": "ad28c15f-df5e-415c-cb0b-bfa69addd8cb",
        "colab": {
          "base_uri": "https://localhost:8080/",
          "height": 35
        }
      },
      "source": [
        "end_time = time.time()\n",
        "print(\"Runtime of the notebook is\", end_time-start_time ,\"seconds\")"
      ],
      "execution_count": 54,
      "outputs": [
        {
          "output_type": "stream",
          "text": [
            "Runtime of the notebook is 18.548344612121582 seconds\n"
          ],
          "name": "stdout"
        }
      ]
    },
    {
      "cell_type": "code",
      "metadata": {
        "id": "5FjHAlT4fK-T",
        "colab_type": "code",
        "colab": {}
      },
      "source": [
        ""
      ],
      "execution_count": 0,
      "outputs": []
    }
  ]
}